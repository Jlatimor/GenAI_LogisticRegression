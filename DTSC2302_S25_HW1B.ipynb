{
  "cells": [
    {
      "cell_type": "markdown",
      "metadata": {
        "id": "izKqG6OvCt21"
      },
      "source": [
        "## DTSC 2302 Spring 2025 Homework #1\n",
        "\n",
        "Turn in your assignment via Gradescope\n",
        "\n",
        "Due 3/21/25, 11: 59pm\n",
        "\n",
        "For Part A, you *not* use generative AI and you may only use python commands and code we used in class. \n",
        "\n",
        "For this assignment you *may* use any generative AI for Part #B and you may only use python commands and code we used in class. \n",
        "\n",
        "You will turn in two different files, one for Part A, and another for Part B.  Gradescope will have these as two different assignments."
      ]
    },
    {
      "cell_type": "markdown",
      "metadata": {},
      "source": [
        "### Part B\n",
        "#### Question 3\n",
        "\n",
        "For this question, you will prompt a generative AI (genAI) program such as ChatGPT or Gemini to \n",
        "create a Jupyter Notebook that evaluates a logistic regression via cross validation for a dataset called _BreastCancer.csv_ with called _Radius_, _Texture_, _Perimeter_ , _Area_, and _Smoothness_\n",
        "\n",
        "Download the resulting Jupyter Notebook.  At the top of the file in Text/Markdown, put your name, the genAI program that you used including a link to the website, and the exact prompt that you gave the genAI. \n",
        "\n",
        "Turn in this notebook to Gradescope.  "
      ]
    },
    {
      "cell_type": "markdown",
      "metadata": {},
      "source": [
        "\n",
        "https://1drv.ms/u/s!AiLbju3iaKI0gfRimwfze-5-H4vRgA?e=K8h0EV\n"
      ]
    }
  ],
  "metadata": {
    "colab": {
      "provenance": []
    },
    "kernelspec": {
      "display_name": "base",
      "language": "python",
      "name": "python3"
    },
    "language_info": {
      "codemirror_mode": {
        "name": "ipython",
        "version": 3
      },
      "file_extension": ".py",
      "mimetype": "text/x-python",
      "name": "python",
      "nbconvert_exporter": "python",
      "pygments_lexer": "ipython3",
      "version": "3.12.4"
    }
  },
  "nbformat": 4,
  "nbformat_minor": 0
}
